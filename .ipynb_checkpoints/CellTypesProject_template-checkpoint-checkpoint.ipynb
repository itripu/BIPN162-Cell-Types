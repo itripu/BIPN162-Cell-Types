{
 "cells": [
  {
   "cell_type": "markdown",
   "metadata": {},
   "source": [
    "# Cell Types Project"
   ]
  },
  {
   "cell_type": "markdown",
   "metadata": {},
   "source": [
    "## Team Member Names & Contributions\n",
    "*Feel free to name your team, but please also include your real names and IDs here. Please specify who in your group worked on which parts of the project.*\n",
    "\n",
    "- **Isha Tripuraneni**: Background information on excitatory and inhibitory cell types.\n",
    "- **Gabriella Bulli**: Background information about years of seizure (subject to change).\n",
    "- **Deborah Chen**: Background information on Allen Institute cell types data and general information about epilepsy."
   ]
  },
  {
   "cell_type": "markdown",
   "metadata": {},
   "source": [
    "## Abstract"
   ]
  },
  {
   "cell_type": "markdown",
   "metadata": {},
   "source": [
    "*Fill in your 3-4 sentence abstract here*"
   ]
  },
  {
   "cell_type": "markdown",
   "metadata": {},
   "source": [
    "## Research Question"
   ]
  },
  {
   "cell_type": "markdown",
   "metadata": {},
   "source": [
    "In epileptic patients, how do excitatory vs. inhibitory cell types differ in the temporal lobe from patients with “healthy” brains?"
   ]
  },
  {
   "cell_type": "markdown",
   "metadata": {},
   "source": [
    "## Background and Prior Work"
   ]
  },
  {
   "cell_type": "markdown",
   "metadata": {},
   "source": [
    "*Fill in your background and prior work here (~500 words). You are welcome to use additional subheadings. You should also include a paragraph describing each dataset and how you'll be using them.* \n",
    "\n",
    "\n",
    "### Epilepsy in the temporal lobe\n",
    "\n",
    "Epilepsy is a chronic disorder characterized by prolonged and recurrent seizures. Early autopsies of patients with epilepsy have found that their brains have undergone significant structural changes (Scharfman 2007). The most common form of epilepsy occurs in the temporal lobe and has a prevalence rate of around 0.1%, therefore extensive research has gone into studying the causes of and treatments for Temporal Lobe Epilepsy (TLE) (Keränen and Riekkinen et al. 1988; Krook-Magnuson et al. 2014).  \n",
    "\n",
    "The temporal lobe (describe the functions and the areas - Gabby if you want to do this that would be great).\n",
    "\n",
    "### Excitatory and Inhibitory Neurons in Epilepsy\n",
    "\n",
    "Neurons can largely be classified as either excitatory or inhibitory cells. Excitatory neurons typically release glutamate, an excitatory neurotransmitter, that signals to postsynaptic cells to promote action potential generation. Inhibitory neurons primarily release GABA, an inhibitory neurotransmitter, that signals to postsynaptic cells to decrease the likelihood of generating an action potential. Furthermore, these neurons can further be classified by morphological changes, specifically in regards to dendritic spines. Excitatory neurons are generally spiny, as dendritic spines are the main point of contact for excitatory postsynaptic connections. Furthermore, there is increasing evidence that dendritic spine growth is related to glutamate receptor response, revealing a correlation with excitatory synapses. In contrast, inhibitory synapses are regarded as aspiny or sparsely spiny, because they do not receive the same excitatory contacts that allow for dendritic spine growth. (will add references later, as well as the effects in epilepsy) \n",
    "\n",
    "In epilepsy, these neurons are (Gabby's Research here)\n",
    "\n",
    "\n",
    "\n",
    "### References (include links):\n",
    "(1) Keränen, T. and Riekkinen, P. (1988), Severe epilepsy: Diagnostic and epidemiological \n",
    "aspects. Acta Neurologica Scandinavica, 78: 7-14. https://doi.org/10.1111/j.1600-0404.1988.tb07997.x\n",
    "\n",
    "(2) Krook-Magnuson, E., Szabo, G. G., Armstrong, C., Oijala, M., & Soltesz, I. (2014). Cerebellar Directed Optogenetic Intervention Inhibits Spontaneous Hippocampal Seizures in a Mouse Model of Temporal Lobe Epilepsy. eNeuro, 1(1), ENEURO.0005-14.2014. https://doi.org/10.1523/ENEURO.0005-14.2014\n",
    "\n",
    "(3) Scharfman, H. E. (2007). The Neurobiology of Epilepsy. Current Neurology and Neuroscience Reports, 7(4), 348–354.\n",
    "\n",
    "\n",
    "### Datasets \n",
    "**#1 The Allen Brain Atlas Cell Feature Data.** \n",
    "- Link to dataset: https://celltypes.brain-map.org/data\n",
    "\n",
    "The Allen Cell Types datasest contains single cell morphological and electrophysiological properties collected from various human and mice subjects. The cells are mainly from the cerebral cortex and thalamus. For the human participants, the disease state (with or without epilepsy) and years of seizure are recorded, which can be used to investigate differences in neuron excitability and other electrophysiological features across the years of seizure. \n",
    "\n",
    "**#2** Deborah's synopsis\n",
    "  "
   ]
  },
  {
   "cell_type": "markdown",
   "metadata": {},
   "source": [
    "## Hypothesis\n"
   ]
  },
  {
   "cell_type": "markdown",
   "metadata": {},
   "source": [
    "In comparison with “healthy” patients, we hypothesize that excitatory cells in epileptic patients will fire at a higher rate, while inhibitory cells in epileptic patients will fire at a lower rate because the excitatory and inhibitory balance in epilepsy is often disrupted."
   ]
  },
  {
   "cell_type": "markdown",
   "metadata": {},
   "source": [
    "## Setup\n",
    "*Are there packages that need to be imported, or datasets that need to be downloaded?*  \n",
    "\n",
    "We imported numpy, pandas, and matplotlib.pyplot for visualizing and wrangling the data. We also imported the Allen SDK to load in the data set."
   ]
  },
  {
   "cell_type": "code",
   "execution_count": 1,
   "metadata": {},
   "outputs": [],
   "source": [
    "# Import Modules\n",
    "import numpy as np\n",
    "import pandas as pd\n",
    "import matplotlib.pyplot as plt\n",
    "from scipy import stats\n",
    "\n",
    "# Load in the Allen Cell Types SDK Api and Cache\n",
    "from allensdk.core.cell_types_cache import CellTypesCache\n",
    "from allensdk.api.queries.cell_types_api import CellTypesApi\n",
    "\n",
    "# Create a cache: from the in-class notebooks\n",
    "ctc = CellTypesCache(manifest_file='cell_types/manifest.json')"
   ]
  },
  {
   "cell_type": "markdown",
   "metadata": {},
   "source": [
    "## Data Wrangling"
   ]
  },
  {
   "cell_type": "markdown",
   "metadata": {},
   "source": [
    "### Dataset 1\n",
    "First, we loaded in the Allen Institute Cell Types metadata and examined it. "
   ]
  },
  {
   "cell_type": "code",
   "execution_count": 2,
   "metadata": {},
   "outputs": [
    {
     "data": {
      "text/html": [
       "<div>\n",
       "<style scoped>\n",
       "    .dataframe tbody tr th:only-of-type {\n",
       "        vertical-align: middle;\n",
       "    }\n",
       "\n",
       "    .dataframe tbody tr th {\n",
       "        vertical-align: top;\n",
       "    }\n",
       "\n",
       "    .dataframe thead th {\n",
       "        text-align: right;\n",
       "    }\n",
       "</style>\n",
       "<table border=\"1\" class=\"dataframe\">\n",
       "  <thead>\n",
       "    <tr style=\"text-align: right;\">\n",
       "      <th></th>\n",
       "      <th>reporter_status</th>\n",
       "      <th>cell_soma_location</th>\n",
       "      <th>species</th>\n",
       "      <th>name</th>\n",
       "      <th>structure_layer_name</th>\n",
       "      <th>structure_area_id</th>\n",
       "      <th>structure_area_abbrev</th>\n",
       "      <th>transgenic_line</th>\n",
       "      <th>dendrite_type</th>\n",
       "      <th>apical</th>\n",
       "      <th>reconstruction_type</th>\n",
       "      <th>disease_state</th>\n",
       "      <th>donor_id</th>\n",
       "      <th>structure_hemisphere</th>\n",
       "      <th>normalized_depth</th>\n",
       "    </tr>\n",
       "    <tr>\n",
       "      <th>id</th>\n",
       "      <th></th>\n",
       "      <th></th>\n",
       "      <th></th>\n",
       "      <th></th>\n",
       "      <th></th>\n",
       "      <th></th>\n",
       "      <th></th>\n",
       "      <th></th>\n",
       "      <th></th>\n",
       "      <th></th>\n",
       "      <th></th>\n",
       "      <th></th>\n",
       "      <th></th>\n",
       "      <th></th>\n",
       "      <th></th>\n",
       "    </tr>\n",
       "  </thead>\n",
       "  <tbody>\n",
       "    <tr>\n",
       "      <th>525011903</th>\n",
       "      <td>None</td>\n",
       "      <td>[273.0, 354.0, 216.0]</td>\n",
       "      <td>Homo Sapiens</td>\n",
       "      <td>H16.03.003.01.14.02</td>\n",
       "      <td>3</td>\n",
       "      <td>12113</td>\n",
       "      <td>FroL</td>\n",
       "      <td></td>\n",
       "      <td>spiny</td>\n",
       "      <td>intact</td>\n",
       "      <td>None</td>\n",
       "      <td>epilepsy</td>\n",
       "      <td>524848408</td>\n",
       "      <td>right</td>\n",
       "      <td>NaN</td>\n",
       "    </tr>\n",
       "    <tr>\n",
       "      <th>528642047</th>\n",
       "      <td>None</td>\n",
       "      <td>[69.0, 254.0, 96.0]</td>\n",
       "      <td>Homo Sapiens</td>\n",
       "      <td>H16.06.009.01.02.06.05</td>\n",
       "      <td>5</td>\n",
       "      <td>12141</td>\n",
       "      <td>MTG</td>\n",
       "      <td></td>\n",
       "      <td>aspiny</td>\n",
       "      <td>NA</td>\n",
       "      <td>None</td>\n",
       "      <td>epilepsy</td>\n",
       "      <td>528574320</td>\n",
       "      <td>left</td>\n",
       "      <td>NaN</td>\n",
       "    </tr>\n",
       "    <tr>\n",
       "      <th>537256313</th>\n",
       "      <td>None</td>\n",
       "      <td>[322.0, 255.0, 92.0]</td>\n",
       "      <td>Homo Sapiens</td>\n",
       "      <td>H16.03.006.01.05.02</td>\n",
       "      <td>4</td>\n",
       "      <td>12141</td>\n",
       "      <td>MTG</td>\n",
       "      <td></td>\n",
       "      <td>spiny</td>\n",
       "      <td>truncated</td>\n",
       "      <td>None</td>\n",
       "      <td>epilepsy</td>\n",
       "      <td>536912860</td>\n",
       "      <td>right</td>\n",
       "      <td>NaN</td>\n",
       "    </tr>\n",
       "    <tr>\n",
       "      <th>519832676</th>\n",
       "      <td>None</td>\n",
       "      <td>[79.0, 273.0, 91.0]</td>\n",
       "      <td>Homo Sapiens</td>\n",
       "      <td>H16.03.001.01.09.01</td>\n",
       "      <td>3</td>\n",
       "      <td>12141</td>\n",
       "      <td>MTG</td>\n",
       "      <td></td>\n",
       "      <td>spiny</td>\n",
       "      <td>truncated</td>\n",
       "      <td>full</td>\n",
       "      <td>epilepsy</td>\n",
       "      <td>518641172</td>\n",
       "      <td>left</td>\n",
       "      <td>0.290951</td>\n",
       "    </tr>\n",
       "    <tr>\n",
       "      <th>596020931</th>\n",
       "      <td>None</td>\n",
       "      <td>[66.0, 220.0, 105.0]</td>\n",
       "      <td>Homo Sapiens</td>\n",
       "      <td>H17.06.009.11.04.02</td>\n",
       "      <td>4</td>\n",
       "      <td>12141</td>\n",
       "      <td>MTG</td>\n",
       "      <td></td>\n",
       "      <td>aspiny</td>\n",
       "      <td>NA</td>\n",
       "      <td>full</td>\n",
       "      <td>tumor</td>\n",
       "      <td>595954915</td>\n",
       "      <td>left</td>\n",
       "      <td>0.497825</td>\n",
       "    </tr>\n",
       "  </tbody>\n",
       "</table>\n",
       "</div>"
      ],
      "text/plain": [
       "          reporter_status     cell_soma_location       species  \\\n",
       "id                                                               \n",
       "525011903            None  [273.0, 354.0, 216.0]  Homo Sapiens   \n",
       "528642047            None    [69.0, 254.0, 96.0]  Homo Sapiens   \n",
       "537256313            None   [322.0, 255.0, 92.0]  Homo Sapiens   \n",
       "519832676            None    [79.0, 273.0, 91.0]  Homo Sapiens   \n",
       "596020931            None   [66.0, 220.0, 105.0]  Homo Sapiens   \n",
       "\n",
       "                             name structure_layer_name  structure_area_id  \\\n",
       "id                                                                          \n",
       "525011903     H16.03.003.01.14.02                    3              12113   \n",
       "528642047  H16.06.009.01.02.06.05                    5              12141   \n",
       "537256313     H16.03.006.01.05.02                    4              12141   \n",
       "519832676     H16.03.001.01.09.01                    3              12141   \n",
       "596020931     H17.06.009.11.04.02                    4              12141   \n",
       "\n",
       "          structure_area_abbrev transgenic_line dendrite_type     apical  \\\n",
       "id                                                                         \n",
       "525011903                  FroL                         spiny     intact   \n",
       "528642047                   MTG                        aspiny         NA   \n",
       "537256313                   MTG                         spiny  truncated   \n",
       "519832676                   MTG                         spiny  truncated   \n",
       "596020931                   MTG                        aspiny         NA   \n",
       "\n",
       "          reconstruction_type disease_state   donor_id structure_hemisphere  \\\n",
       "id                                                                            \n",
       "525011903                None      epilepsy  524848408                right   \n",
       "528642047                None      epilepsy  528574320                 left   \n",
       "537256313                None      epilepsy  536912860                right   \n",
       "519832676                full      epilepsy  518641172                 left   \n",
       "596020931                full         tumor  595954915                 left   \n",
       "\n",
       "           normalized_depth  \n",
       "id                           \n",
       "525011903               NaN  \n",
       "528642047               NaN  \n",
       "537256313               NaN  \n",
       "519832676          0.290951  \n",
       "596020931          0.497825  "
      ]
     },
     "execution_count": 2,
     "metadata": {},
     "output_type": "execute_result"
    }
   ],
   "source": [
    "# Created a dataframe of all the CellTypes data for human cells \n",
    "meta_df = pd.DataFrame(ctc.get_cells(species=[CellTypesApi.HUMAN])).set_index('id')\n",
    "meta_df.head()"
   ]
  },
  {
   "cell_type": "code",
   "execution_count": 3,
   "metadata": {},
   "outputs": [
    {
     "data": {
      "text/plain": [
       "(413, 15)"
      ]
     },
     "execution_count": 3,
     "metadata": {},
     "output_type": "execute_result"
    }
   ],
   "source": [
    "meta_df.shape"
   ]
  },
  {
   "cell_type": "markdown",
   "metadata": {},
   "source": [
    "We checked the columns present in the dataset. "
   ]
  },
  {
   "cell_type": "code",
   "execution_count": 4,
   "metadata": {},
   "outputs": [
    {
     "data": {
      "text/plain": [
       "Index(['reporter_status', 'cell_soma_location', 'species', 'name',\n",
       "       'structure_layer_name', 'structure_area_id', 'structure_area_abbrev',\n",
       "       'transgenic_line', 'dendrite_type', 'apical', 'reconstruction_type',\n",
       "       'disease_state', 'donor_id', 'structure_hemisphere',\n",
       "       'normalized_depth'],\n",
       "      dtype='object')"
      ]
     },
     "execution_count": 4,
     "metadata": {},
     "output_type": "execute_result"
    }
   ],
   "source": [
    "meta_df.columns"
   ]
  },
  {
   "cell_type": "code",
   "execution_count": 5,
   "metadata": {},
   "outputs": [
    {
     "data": {
      "text/plain": [
       "array([None], dtype=object)"
      ]
     },
     "execution_count": 5,
     "metadata": {},
     "output_type": "execute_result"
    }
   ],
   "source": [
    "meta_df['reporter_status'].unique()"
   ]
  },
  {
   "cell_type": "markdown",
   "metadata": {},
   "source": [
    "Since we already subsetted all the data from *Homo Sapiens*, we can drop the **species** column. We will also drop the **reporter_status** column since it is only contained None values. "
   ]
  },
  {
   "cell_type": "code",
   "execution_count": 6,
   "metadata": {},
   "outputs": [
    {
     "data": {
      "text/html": [
       "<div>\n",
       "<style scoped>\n",
       "    .dataframe tbody tr th:only-of-type {\n",
       "        vertical-align: middle;\n",
       "    }\n",
       "\n",
       "    .dataframe tbody tr th {\n",
       "        vertical-align: top;\n",
       "    }\n",
       "\n",
       "    .dataframe thead th {\n",
       "        text-align: right;\n",
       "    }\n",
       "</style>\n",
       "<table border=\"1\" class=\"dataframe\">\n",
       "  <thead>\n",
       "    <tr style=\"text-align: right;\">\n",
       "      <th></th>\n",
       "      <th>cell_soma_location</th>\n",
       "      <th>name</th>\n",
       "      <th>structure_layer_name</th>\n",
       "      <th>structure_area_id</th>\n",
       "      <th>structure_area_abbrev</th>\n",
       "      <th>transgenic_line</th>\n",
       "      <th>dendrite_type</th>\n",
       "      <th>apical</th>\n",
       "      <th>reconstruction_type</th>\n",
       "      <th>disease_state</th>\n",
       "      <th>donor_id</th>\n",
       "      <th>structure_hemisphere</th>\n",
       "      <th>normalized_depth</th>\n",
       "    </tr>\n",
       "    <tr>\n",
       "      <th>id</th>\n",
       "      <th></th>\n",
       "      <th></th>\n",
       "      <th></th>\n",
       "      <th></th>\n",
       "      <th></th>\n",
       "      <th></th>\n",
       "      <th></th>\n",
       "      <th></th>\n",
       "      <th></th>\n",
       "      <th></th>\n",
       "      <th></th>\n",
       "      <th></th>\n",
       "      <th></th>\n",
       "    </tr>\n",
       "  </thead>\n",
       "  <tbody>\n",
       "    <tr>\n",
       "      <th>525011903</th>\n",
       "      <td>[273.0, 354.0, 216.0]</td>\n",
       "      <td>H16.03.003.01.14.02</td>\n",
       "      <td>3</td>\n",
       "      <td>12113</td>\n",
       "      <td>FroL</td>\n",
       "      <td></td>\n",
       "      <td>spiny</td>\n",
       "      <td>intact</td>\n",
       "      <td>None</td>\n",
       "      <td>epilepsy</td>\n",
       "      <td>524848408</td>\n",
       "      <td>right</td>\n",
       "      <td>NaN</td>\n",
       "    </tr>\n",
       "    <tr>\n",
       "      <th>528642047</th>\n",
       "      <td>[69.0, 254.0, 96.0]</td>\n",
       "      <td>H16.06.009.01.02.06.05</td>\n",
       "      <td>5</td>\n",
       "      <td>12141</td>\n",
       "      <td>MTG</td>\n",
       "      <td></td>\n",
       "      <td>aspiny</td>\n",
       "      <td>NA</td>\n",
       "      <td>None</td>\n",
       "      <td>epilepsy</td>\n",
       "      <td>528574320</td>\n",
       "      <td>left</td>\n",
       "      <td>NaN</td>\n",
       "    </tr>\n",
       "    <tr>\n",
       "      <th>537256313</th>\n",
       "      <td>[322.0, 255.0, 92.0]</td>\n",
       "      <td>H16.03.006.01.05.02</td>\n",
       "      <td>4</td>\n",
       "      <td>12141</td>\n",
       "      <td>MTG</td>\n",
       "      <td></td>\n",
       "      <td>spiny</td>\n",
       "      <td>truncated</td>\n",
       "      <td>None</td>\n",
       "      <td>epilepsy</td>\n",
       "      <td>536912860</td>\n",
       "      <td>right</td>\n",
       "      <td>NaN</td>\n",
       "    </tr>\n",
       "    <tr>\n",
       "      <th>519832676</th>\n",
       "      <td>[79.0, 273.0, 91.0]</td>\n",
       "      <td>H16.03.001.01.09.01</td>\n",
       "      <td>3</td>\n",
       "      <td>12141</td>\n",
       "      <td>MTG</td>\n",
       "      <td></td>\n",
       "      <td>spiny</td>\n",
       "      <td>truncated</td>\n",
       "      <td>full</td>\n",
       "      <td>epilepsy</td>\n",
       "      <td>518641172</td>\n",
       "      <td>left</td>\n",
       "      <td>0.290951</td>\n",
       "    </tr>\n",
       "    <tr>\n",
       "      <th>596020931</th>\n",
       "      <td>[66.0, 220.0, 105.0]</td>\n",
       "      <td>H17.06.009.11.04.02</td>\n",
       "      <td>4</td>\n",
       "      <td>12141</td>\n",
       "      <td>MTG</td>\n",
       "      <td></td>\n",
       "      <td>aspiny</td>\n",
       "      <td>NA</td>\n",
       "      <td>full</td>\n",
       "      <td>tumor</td>\n",
       "      <td>595954915</td>\n",
       "      <td>left</td>\n",
       "      <td>0.497825</td>\n",
       "    </tr>\n",
       "  </tbody>\n",
       "</table>\n",
       "</div>"
      ],
      "text/plain": [
       "              cell_soma_location                    name structure_layer_name  \\\n",
       "id                                                                              \n",
       "525011903  [273.0, 354.0, 216.0]     H16.03.003.01.14.02                    3   \n",
       "528642047    [69.0, 254.0, 96.0]  H16.06.009.01.02.06.05                    5   \n",
       "537256313   [322.0, 255.0, 92.0]     H16.03.006.01.05.02                    4   \n",
       "519832676    [79.0, 273.0, 91.0]     H16.03.001.01.09.01                    3   \n",
       "596020931   [66.0, 220.0, 105.0]     H17.06.009.11.04.02                    4   \n",
       "\n",
       "           structure_area_id structure_area_abbrev transgenic_line  \\\n",
       "id                                                                   \n",
       "525011903              12113                  FroL                   \n",
       "528642047              12141                   MTG                   \n",
       "537256313              12141                   MTG                   \n",
       "519832676              12141                   MTG                   \n",
       "596020931              12141                   MTG                   \n",
       "\n",
       "          dendrite_type     apical reconstruction_type disease_state  \\\n",
       "id                                                                     \n",
       "525011903         spiny     intact                None      epilepsy   \n",
       "528642047        aspiny         NA                None      epilepsy   \n",
       "537256313         spiny  truncated                None      epilepsy   \n",
       "519832676         spiny  truncated                full      epilepsy   \n",
       "596020931        aspiny         NA                full         tumor   \n",
       "\n",
       "            donor_id structure_hemisphere  normalized_depth  \n",
       "id                                                           \n",
       "525011903  524848408                right               NaN  \n",
       "528642047  528574320                 left               NaN  \n",
       "537256313  536912860                right               NaN  \n",
       "519832676  518641172                 left          0.290951  \n",
       "596020931  595954915                 left          0.497825  "
      ]
     },
     "execution_count": 6,
     "metadata": {},
     "output_type": "execute_result"
    }
   ],
   "source": [
    "meta_df = meta_df.drop(axis = '1', columns=['species', 'reporter_status'])\n",
    "meta_df.head()"
   ]
  },
  {
   "cell_type": "code",
   "execution_count": 7,
   "metadata": {},
   "outputs": [
    {
     "data": {
      "text/plain": [
       "(413, 13)"
      ]
     },
     "execution_count": 7,
     "metadata": {},
     "output_type": "execute_result"
    }
   ],
   "source": [
    "# the cleaned dataset\n",
    "meta_df.shape"
   ]
  },
  {
   "cell_type": "markdown",
   "metadata": {},
   "source": [
    "Looking at the variables (disease, cell types, and brain region) we're interested in: "
   ]
  },
  {
   "cell_type": "code",
   "execution_count": 8,
   "metadata": {},
   "outputs": [
    {
     "data": {
      "text/plain": [
       "MTG     309\n",
       "MFG      26\n",
       "FroL     23\n",
       "AnG      16\n",
       "ITG      15\n",
       "TemL     11\n",
       "PLP       6\n",
       "IFG       4\n",
       "SFG       3\n",
       "Name: structure_area_abbrev, dtype: int64"
      ]
     },
     "execution_count": 8,
     "metadata": {},
     "output_type": "execute_result"
    }
   ],
   "source": [
    "meta_df['structure_area_abbrev'].value_counts()"
   ]
  },
  {
   "cell_type": "code",
   "execution_count": 9,
   "metadata": {},
   "outputs": [
    {
     "data": {
      "text/plain": [
       "epilepsy    350\n",
       "tumor        63\n",
       "Name: disease_state, dtype: int64"
      ]
     },
     "execution_count": 9,
     "metadata": {},
     "output_type": "execute_result"
    }
   ],
   "source": [
    "meta_df['disease_state'].value_counts()"
   ]
  },
  {
   "cell_type": "code",
   "execution_count": 10,
   "metadata": {},
   "outputs": [
    {
     "data": {
      "text/plain": [
       "spiny             321\n",
       "aspiny             79\n",
       "sparsely spiny     13\n",
       "Name: dendrite_type, dtype: int64"
      ]
     },
     "execution_count": 10,
     "metadata": {},
     "output_type": "execute_result"
    }
   ],
   "source": [
    "meta_df['dendrite_type'].value_counts()"
   ]
  },
  {
   "cell_type": "markdown",
   "metadata": {},
   "source": [
    "\n",
    "\n",
    "Then we loaded the electrophysiological data using the Allen SDK and examined it as well. "
   ]
  },
  {
   "cell_type": "code",
   "execution_count": 11,
   "metadata": {
    "scrolled": true
   },
   "outputs": [
    {
     "data": {
      "text/html": [
       "<div>\n",
       "<style scoped>\n",
       "    .dataframe tbody tr th:only-of-type {\n",
       "        vertical-align: middle;\n",
       "    }\n",
       "\n",
       "    .dataframe tbody tr th {\n",
       "        vertical-align: top;\n",
       "    }\n",
       "\n",
       "    .dataframe thead th {\n",
       "        text-align: right;\n",
       "    }\n",
       "</style>\n",
       "<table border=\"1\" class=\"dataframe\">\n",
       "  <thead>\n",
       "    <tr style=\"text-align: right;\">\n",
       "      <th></th>\n",
       "      <th>adaptation</th>\n",
       "      <th>avg_isi</th>\n",
       "      <th>electrode_0_pa</th>\n",
       "      <th>f_i_curve_slope</th>\n",
       "      <th>fast_trough_t_long_square</th>\n",
       "      <th>fast_trough_t_ramp</th>\n",
       "      <th>fast_trough_t_short_square</th>\n",
       "      <th>fast_trough_v_long_square</th>\n",
       "      <th>fast_trough_v_ramp</th>\n",
       "      <th>fast_trough_v_short_square</th>\n",
       "      <th>...</th>\n",
       "      <th>trough_t_ramp</th>\n",
       "      <th>trough_t_short_square</th>\n",
       "      <th>trough_v_long_square</th>\n",
       "      <th>trough_v_ramp</th>\n",
       "      <th>trough_v_short_square</th>\n",
       "      <th>upstroke_downstroke_ratio_long_square</th>\n",
       "      <th>upstroke_downstroke_ratio_ramp</th>\n",
       "      <th>upstroke_downstroke_ratio_short_square</th>\n",
       "      <th>vm_for_sag</th>\n",
       "      <th>vrest</th>\n",
       "    </tr>\n",
       "    <tr>\n",
       "      <th>specimen_id</th>\n",
       "      <th></th>\n",
       "      <th></th>\n",
       "      <th></th>\n",
       "      <th></th>\n",
       "      <th></th>\n",
       "      <th></th>\n",
       "      <th></th>\n",
       "      <th></th>\n",
       "      <th></th>\n",
       "      <th></th>\n",
       "      <th></th>\n",
       "      <th></th>\n",
       "      <th></th>\n",
       "      <th></th>\n",
       "      <th></th>\n",
       "      <th></th>\n",
       "      <th></th>\n",
       "      <th></th>\n",
       "      <th></th>\n",
       "      <th></th>\n",
       "      <th></th>\n",
       "    </tr>\n",
       "  </thead>\n",
       "  <tbody>\n",
       "    <tr>\n",
       "      <th>529878215</th>\n",
       "      <td>NaN</td>\n",
       "      <td>134.700000</td>\n",
       "      <td>22.697498</td>\n",
       "      <td>8.335459e-02</td>\n",
       "      <td>1.187680</td>\n",
       "      <td>13.295200</td>\n",
       "      <td>1.025916</td>\n",
       "      <td>-56.375004</td>\n",
       "      <td>-57.385420</td>\n",
       "      <td>-57.431251</td>\n",
       "      <td>...</td>\n",
       "      <td>13.295680</td>\n",
       "      <td>1.134780</td>\n",
       "      <td>-56.593754</td>\n",
       "      <td>-57.739586</td>\n",
       "      <td>-74.143753</td>\n",
       "      <td>3.029695</td>\n",
       "      <td>3.061646</td>\n",
       "      <td>2.969821</td>\n",
       "      <td>-80.468750</td>\n",
       "      <td>-73.553391</td>\n",
       "    </tr>\n",
       "    <tr>\n",
       "      <th>548459652</th>\n",
       "      <td>NaN</td>\n",
       "      <td>NaN</td>\n",
       "      <td>-24.887498</td>\n",
       "      <td>-3.913630e-19</td>\n",
       "      <td>1.099840</td>\n",
       "      <td>20.650105</td>\n",
       "      <td>1.025460</td>\n",
       "      <td>-54.000000</td>\n",
       "      <td>-54.828129</td>\n",
       "      <td>-54.656254</td>\n",
       "      <td>...</td>\n",
       "      <td>20.650735</td>\n",
       "      <td>1.160940</td>\n",
       "      <td>-55.406254</td>\n",
       "      <td>-55.242191</td>\n",
       "      <td>-73.500000</td>\n",
       "      <td>2.441895</td>\n",
       "      <td>2.245653</td>\n",
       "      <td>2.231575</td>\n",
       "      <td>-84.406258</td>\n",
       "      <td>-73.056595</td>\n",
       "    </tr>\n",
       "    <tr>\n",
       "      <th>579978640</th>\n",
       "      <td>0.009770</td>\n",
       "      <td>39.044800</td>\n",
       "      <td>-46.765002</td>\n",
       "      <td>5.267857e-01</td>\n",
       "      <td>1.157840</td>\n",
       "      <td>2.551310</td>\n",
       "      <td>1.025387</td>\n",
       "      <td>-59.500000</td>\n",
       "      <td>-58.234378</td>\n",
       "      <td>-59.940975</td>\n",
       "      <td>...</td>\n",
       "      <td>2.551960</td>\n",
       "      <td>1.089851</td>\n",
       "      <td>-60.062500</td>\n",
       "      <td>-58.570314</td>\n",
       "      <td>-61.371531</td>\n",
       "      <td>2.023762</td>\n",
       "      <td>2.162878</td>\n",
       "      <td>2.006406</td>\n",
       "      <td>-93.375008</td>\n",
       "      <td>-60.277321</td>\n",
       "    </tr>\n",
       "    <tr>\n",
       "      <th>439024551</th>\n",
       "      <td>-0.007898</td>\n",
       "      <td>117.816429</td>\n",
       "      <td>5.996250</td>\n",
       "      <td>1.542553e-01</td>\n",
       "      <td>1.989165</td>\n",
       "      <td>9.572025</td>\n",
       "      <td>1.028733</td>\n",
       "      <td>-47.531250</td>\n",
       "      <td>-50.359375</td>\n",
       "      <td>-65.500000</td>\n",
       "      <td>...</td>\n",
       "      <td>9.576308</td>\n",
       "      <td>1.423229</td>\n",
       "      <td>-49.406254</td>\n",
       "      <td>-52.718752</td>\n",
       "      <td>-75.273443</td>\n",
       "      <td>3.105931</td>\n",
       "      <td>3.491663</td>\n",
       "      <td>1.733896</td>\n",
       "      <td>-87.656250</td>\n",
       "      <td>-75.205559</td>\n",
       "    </tr>\n",
       "    <tr>\n",
       "      <th>515188639</th>\n",
       "      <td>0.022842</td>\n",
       "      <td>68.321429</td>\n",
       "      <td>14.910000</td>\n",
       "      <td>1.714041e-01</td>\n",
       "      <td>1.081980</td>\n",
       "      <td>2.462880</td>\n",
       "      <td>1.025620</td>\n",
       "      <td>-48.437504</td>\n",
       "      <td>-46.520837</td>\n",
       "      <td>-51.406253</td>\n",
       "      <td>...</td>\n",
       "      <td>2.490433</td>\n",
       "      <td>1.479690</td>\n",
       "      <td>-53.000004</td>\n",
       "      <td>-54.645837</td>\n",
       "      <td>-64.250003</td>\n",
       "      <td>3.285760</td>\n",
       "      <td>3.363504</td>\n",
       "      <td>4.234701</td>\n",
       "      <td>-81.625008</td>\n",
       "      <td>-63.474991</td>\n",
       "    </tr>\n",
       "  </tbody>\n",
       "</table>\n",
       "<p>5 rows × 55 columns</p>\n",
       "</div>"
      ],
      "text/plain": [
       "             adaptation     avg_isi  electrode_0_pa  f_i_curve_slope  \\\n",
       "specimen_id                                                            \n",
       "529878215           NaN  134.700000       22.697498     8.335459e-02   \n",
       "548459652           NaN         NaN      -24.887498    -3.913630e-19   \n",
       "579978640      0.009770   39.044800      -46.765002     5.267857e-01   \n",
       "439024551     -0.007898  117.816429        5.996250     1.542553e-01   \n",
       "515188639      0.022842   68.321429       14.910000     1.714041e-01   \n",
       "\n",
       "             fast_trough_t_long_square  fast_trough_t_ramp  \\\n",
       "specimen_id                                                  \n",
       "529878215                     1.187680           13.295200   \n",
       "548459652                     1.099840           20.650105   \n",
       "579978640                     1.157840            2.551310   \n",
       "439024551                     1.989165            9.572025   \n",
       "515188639                     1.081980            2.462880   \n",
       "\n",
       "             fast_trough_t_short_square  fast_trough_v_long_square  \\\n",
       "specimen_id                                                          \n",
       "529878215                      1.025916                 -56.375004   \n",
       "548459652                      1.025460                 -54.000000   \n",
       "579978640                      1.025387                 -59.500000   \n",
       "439024551                      1.028733                 -47.531250   \n",
       "515188639                      1.025620                 -48.437504   \n",
       "\n",
       "             fast_trough_v_ramp  fast_trough_v_short_square  ...  \\\n",
       "specimen_id                                                  ...   \n",
       "529878215            -57.385420                  -57.431251  ...   \n",
       "548459652            -54.828129                  -54.656254  ...   \n",
       "579978640            -58.234378                  -59.940975  ...   \n",
       "439024551            -50.359375                  -65.500000  ...   \n",
       "515188639            -46.520837                  -51.406253  ...   \n",
       "\n",
       "             trough_t_ramp  trough_t_short_square  trough_v_long_square  \\\n",
       "specimen_id                                                               \n",
       "529878215        13.295680               1.134780            -56.593754   \n",
       "548459652        20.650735               1.160940            -55.406254   \n",
       "579978640         2.551960               1.089851            -60.062500   \n",
       "439024551         9.576308               1.423229            -49.406254   \n",
       "515188639         2.490433               1.479690            -53.000004   \n",
       "\n",
       "             trough_v_ramp  trough_v_short_square  \\\n",
       "specimen_id                                         \n",
       "529878215       -57.739586             -74.143753   \n",
       "548459652       -55.242191             -73.500000   \n",
       "579978640       -58.570314             -61.371531   \n",
       "439024551       -52.718752             -75.273443   \n",
       "515188639       -54.645837             -64.250003   \n",
       "\n",
       "             upstroke_downstroke_ratio_long_square  \\\n",
       "specimen_id                                          \n",
       "529878215                                 3.029695   \n",
       "548459652                                 2.441895   \n",
       "579978640                                 2.023762   \n",
       "439024551                                 3.105931   \n",
       "515188639                                 3.285760   \n",
       "\n",
       "             upstroke_downstroke_ratio_ramp  \\\n",
       "specimen_id                                   \n",
       "529878215                          3.061646   \n",
       "548459652                          2.245653   \n",
       "579978640                          2.162878   \n",
       "439024551                          3.491663   \n",
       "515188639                          3.363504   \n",
       "\n",
       "             upstroke_downstroke_ratio_short_square  vm_for_sag      vrest  \n",
       "specimen_id                                                                 \n",
       "529878215                                  2.969821  -80.468750 -73.553391  \n",
       "548459652                                  2.231575  -84.406258 -73.056595  \n",
       "579978640                                  2.006406  -93.375008 -60.277321  \n",
       "439024551                                  1.733896  -87.656250 -75.205559  \n",
       "515188639                                  4.234701  -81.625008 -63.474991  \n",
       "\n",
       "[5 rows x 55 columns]"
      ]
     },
     "execution_count": 11,
     "metadata": {},
     "output_type": "execute_result"
    }
   ],
   "source": [
    "# Load in the ephy dataset\n",
    "ephys_features = pd.DataFrame(ctc.get_ephys_features()).set_index('specimen_id')\n",
    "ephys_features.head()"
   ]
  },
  {
   "cell_type": "code",
   "execution_count": 12,
   "metadata": {},
   "outputs": [
    {
     "data": {
      "text/plain": [
       "(2333, 55)"
      ]
     },
     "execution_count": 12,
     "metadata": {},
     "output_type": "execute_result"
    }
   ],
   "source": [
    "ephys_features.shape"
   ]
  },
  {
   "cell_type": "code",
   "execution_count": 13,
   "metadata": {},
   "outputs": [
    {
     "data": {
      "text/plain": [
       "Index(['adaptation', 'avg_isi', 'electrode_0_pa', 'f_i_curve_slope',\n",
       "       'fast_trough_t_long_square', 'fast_trough_t_ramp',\n",
       "       'fast_trough_t_short_square', 'fast_trough_v_long_square',\n",
       "       'fast_trough_v_ramp', 'fast_trough_v_short_square', 'has_burst',\n",
       "       'has_delay', 'has_pause', 'id', 'input_resistance_mohm', 'latency',\n",
       "       'peak_t_long_square', 'peak_t_ramp', 'peak_t_short_square',\n",
       "       'peak_v_long_square', 'peak_v_ramp', 'peak_v_short_square',\n",
       "       'rheobase_sweep_id', 'rheobase_sweep_number', 'ri', 'sag', 'seal_gohm',\n",
       "       'slow_trough_t_long_square', 'slow_trough_t_ramp',\n",
       "       'slow_trough_t_short_square', 'slow_trough_v_long_square',\n",
       "       'slow_trough_v_ramp', 'slow_trough_v_short_square', 'tau',\n",
       "       'threshold_i_long_square', 'threshold_i_ramp',\n",
       "       'threshold_i_short_square', 'threshold_t_long_square',\n",
       "       'threshold_t_ramp', 'threshold_t_short_square',\n",
       "       'threshold_v_long_square', 'threshold_v_ramp',\n",
       "       'threshold_v_short_square', 'thumbnail_sweep_id',\n",
       "       'trough_t_long_square', 'trough_t_ramp', 'trough_t_short_square',\n",
       "       'trough_v_long_square', 'trough_v_ramp', 'trough_v_short_square',\n",
       "       'upstroke_downstroke_ratio_long_square',\n",
       "       'upstroke_downstroke_ratio_ramp',\n",
       "       'upstroke_downstroke_ratio_short_square', 'vm_for_sag', 'vrest'],\n",
       "      dtype='object')"
      ]
     },
     "execution_count": 13,
     "metadata": {},
     "output_type": "execute_result"
    }
   ],
   "source": [
    "ephys_features.columns"
   ]
  },
  {
   "cell_type": "markdown",
   "metadata": {},
   "source": [
    "We joined the two datasets by their index 'id' and 'specimen_id'"
   ]
  },
  {
   "cell_type": "code",
   "execution_count": 14,
   "metadata": {},
   "outputs": [
    {
     "data": {
      "text/html": [
       "<div>\n",
       "<style scoped>\n",
       "    .dataframe tbody tr th:only-of-type {\n",
       "        vertical-align: middle;\n",
       "    }\n",
       "\n",
       "    .dataframe tbody tr th {\n",
       "        vertical-align: top;\n",
       "    }\n",
       "\n",
       "    .dataframe thead th {\n",
       "        text-align: right;\n",
       "    }\n",
       "</style>\n",
       "<table border=\"1\" class=\"dataframe\">\n",
       "  <thead>\n",
       "    <tr style=\"text-align: right;\">\n",
       "      <th></th>\n",
       "      <th>cell_soma_location</th>\n",
       "      <th>name</th>\n",
       "      <th>structure_layer_name</th>\n",
       "      <th>structure_area_id</th>\n",
       "      <th>structure_area_abbrev</th>\n",
       "      <th>transgenic_line</th>\n",
       "      <th>dendrite_type</th>\n",
       "      <th>apical</th>\n",
       "      <th>reconstruction_type</th>\n",
       "      <th>disease_state</th>\n",
       "      <th>...</th>\n",
       "      <th>trough_t_ramp</th>\n",
       "      <th>trough_t_short_square</th>\n",
       "      <th>trough_v_long_square</th>\n",
       "      <th>trough_v_ramp</th>\n",
       "      <th>trough_v_short_square</th>\n",
       "      <th>upstroke_downstroke_ratio_long_square</th>\n",
       "      <th>upstroke_downstroke_ratio_ramp</th>\n",
       "      <th>upstroke_downstroke_ratio_short_square</th>\n",
       "      <th>vm_for_sag</th>\n",
       "      <th>vrest</th>\n",
       "    </tr>\n",
       "    <tr>\n",
       "      <th>id</th>\n",
       "      <th></th>\n",
       "      <th></th>\n",
       "      <th></th>\n",
       "      <th></th>\n",
       "      <th></th>\n",
       "      <th></th>\n",
       "      <th></th>\n",
       "      <th></th>\n",
       "      <th></th>\n",
       "      <th></th>\n",
       "      <th></th>\n",
       "      <th></th>\n",
       "      <th></th>\n",
       "      <th></th>\n",
       "      <th></th>\n",
       "      <th></th>\n",
       "      <th></th>\n",
       "      <th></th>\n",
       "      <th></th>\n",
       "      <th></th>\n",
       "      <th></th>\n",
       "    </tr>\n",
       "  </thead>\n",
       "  <tbody>\n",
       "    <tr>\n",
       "      <th>525011903</th>\n",
       "      <td>[273.0, 354.0, 216.0]</td>\n",
       "      <td>H16.03.003.01.14.02</td>\n",
       "      <td>3</td>\n",
       "      <td>12113</td>\n",
       "      <td>FroL</td>\n",
       "      <td></td>\n",
       "      <td>spiny</td>\n",
       "      <td>intact</td>\n",
       "      <td>None</td>\n",
       "      <td>epilepsy</td>\n",
       "      <td>...</td>\n",
       "      <td>4.134987</td>\n",
       "      <td>1.375253</td>\n",
       "      <td>-53.968754</td>\n",
       "      <td>-59.510420</td>\n",
       "      <td>-71.197919</td>\n",
       "      <td>2.895461</td>\n",
       "      <td>2.559876</td>\n",
       "      <td>3.099787</td>\n",
       "      <td>-88.843758</td>\n",
       "      <td>-70.561035</td>\n",
       "    </tr>\n",
       "    <tr>\n",
       "      <th>528642047</th>\n",
       "      <td>[69.0, 254.0, 96.0]</td>\n",
       "      <td>H16.06.009.01.02.06.05</td>\n",
       "      <td>5</td>\n",
       "      <td>12141</td>\n",
       "      <td>MTG</td>\n",
       "      <td></td>\n",
       "      <td>aspiny</td>\n",
       "      <td>NA</td>\n",
       "      <td>None</td>\n",
       "      <td>epilepsy</td>\n",
       "      <td>...</td>\n",
       "      <td>NaN</td>\n",
       "      <td>1.051160</td>\n",
       "      <td>-67.468758</td>\n",
       "      <td>NaN</td>\n",
       "      <td>-70.875002</td>\n",
       "      <td>1.891881</td>\n",
       "      <td>NaN</td>\n",
       "      <td>1.989616</td>\n",
       "      <td>-101.000000</td>\n",
       "      <td>-69.209610</td>\n",
       "    </tr>\n",
       "    <tr>\n",
       "      <th>537256313</th>\n",
       "      <td>[322.0, 255.0, 92.0]</td>\n",
       "      <td>H16.03.006.01.05.02</td>\n",
       "      <td>4</td>\n",
       "      <td>12141</td>\n",
       "      <td>MTG</td>\n",
       "      <td></td>\n",
       "      <td>spiny</td>\n",
       "      <td>truncated</td>\n",
       "      <td>None</td>\n",
       "      <td>epilepsy</td>\n",
       "      <td>...</td>\n",
       "      <td>5.694547</td>\n",
       "      <td>1.389900</td>\n",
       "      <td>-52.125004</td>\n",
       "      <td>-51.520836</td>\n",
       "      <td>-72.900002</td>\n",
       "      <td>3.121182</td>\n",
       "      <td>3.464528</td>\n",
       "      <td>3.054681</td>\n",
       "      <td>-87.531250</td>\n",
       "      <td>-72.628105</td>\n",
       "    </tr>\n",
       "    <tr>\n",
       "      <th>519832676</th>\n",
       "      <td>[79.0, 273.0, 91.0]</td>\n",
       "      <td>H16.03.001.01.09.01</td>\n",
       "      <td>3</td>\n",
       "      <td>12141</td>\n",
       "      <td>MTG</td>\n",
       "      <td></td>\n",
       "      <td>spiny</td>\n",
       "      <td>truncated</td>\n",
       "      <td>full</td>\n",
       "      <td>epilepsy</td>\n",
       "      <td>...</td>\n",
       "      <td>9.962780</td>\n",
       "      <td>1.211020</td>\n",
       "      <td>-53.875004</td>\n",
       "      <td>-52.416668</td>\n",
       "      <td>-73.693753</td>\n",
       "      <td>4.574865</td>\n",
       "      <td>3.817988</td>\n",
       "      <td>4.980603</td>\n",
       "      <td>-84.218758</td>\n",
       "      <td>-72.547661</td>\n",
       "    </tr>\n",
       "    <tr>\n",
       "      <th>596020931</th>\n",
       "      <td>[66.0, 220.0, 105.0]</td>\n",
       "      <td>H17.06.009.11.04.02</td>\n",
       "      <td>4</td>\n",
       "      <td>12141</td>\n",
       "      <td>MTG</td>\n",
       "      <td></td>\n",
       "      <td>aspiny</td>\n",
       "      <td>NA</td>\n",
       "      <td>full</td>\n",
       "      <td>tumor</td>\n",
       "      <td>...</td>\n",
       "      <td>14.667340</td>\n",
       "      <td>1.336668</td>\n",
       "      <td>-63.593754</td>\n",
       "      <td>-63.239583</td>\n",
       "      <td>-75.518753</td>\n",
       "      <td>1.452890</td>\n",
       "      <td>1.441754</td>\n",
       "      <td>1.556087</td>\n",
       "      <td>-82.531250</td>\n",
       "      <td>-74.260269</td>\n",
       "    </tr>\n",
       "  </tbody>\n",
       "</table>\n",
       "<p>5 rows × 68 columns</p>\n",
       "</div>"
      ],
      "text/plain": [
       "              cell_soma_location                    name structure_layer_name  \\\n",
       "id                                                                              \n",
       "525011903  [273.0, 354.0, 216.0]     H16.03.003.01.14.02                    3   \n",
       "528642047    [69.0, 254.0, 96.0]  H16.06.009.01.02.06.05                    5   \n",
       "537256313   [322.0, 255.0, 92.0]     H16.03.006.01.05.02                    4   \n",
       "519832676    [79.0, 273.0, 91.0]     H16.03.001.01.09.01                    3   \n",
       "596020931   [66.0, 220.0, 105.0]     H17.06.009.11.04.02                    4   \n",
       "\n",
       "           structure_area_id structure_area_abbrev transgenic_line  \\\n",
       "id                                                                   \n",
       "525011903              12113                  FroL                   \n",
       "528642047              12141                   MTG                   \n",
       "537256313              12141                   MTG                   \n",
       "519832676              12141                   MTG                   \n",
       "596020931              12141                   MTG                   \n",
       "\n",
       "          dendrite_type     apical reconstruction_type disease_state  ...  \\\n",
       "id                                                                    ...   \n",
       "525011903         spiny     intact                None      epilepsy  ...   \n",
       "528642047        aspiny         NA                None      epilepsy  ...   \n",
       "537256313         spiny  truncated                None      epilepsy  ...   \n",
       "519832676         spiny  truncated                full      epilepsy  ...   \n",
       "596020931        aspiny         NA                full         tumor  ...   \n",
       "\n",
       "           trough_t_ramp trough_t_short_square  trough_v_long_square  \\\n",
       "id                                                                     \n",
       "525011903       4.134987              1.375253            -53.968754   \n",
       "528642047            NaN              1.051160            -67.468758   \n",
       "537256313       5.694547              1.389900            -52.125004   \n",
       "519832676       9.962780              1.211020            -53.875004   \n",
       "596020931      14.667340              1.336668            -63.593754   \n",
       "\n",
       "           trough_v_ramp  trough_v_short_square  \\\n",
       "id                                                \n",
       "525011903     -59.510420             -71.197919   \n",
       "528642047            NaN             -70.875002   \n",
       "537256313     -51.520836             -72.900002   \n",
       "519832676     -52.416668             -73.693753   \n",
       "596020931     -63.239583             -75.518753   \n",
       "\n",
       "           upstroke_downstroke_ratio_long_square  \\\n",
       "id                                                 \n",
       "525011903                               2.895461   \n",
       "528642047                               1.891881   \n",
       "537256313                               3.121182   \n",
       "519832676                               4.574865   \n",
       "596020931                               1.452890   \n",
       "\n",
       "           upstroke_downstroke_ratio_ramp  \\\n",
       "id                                          \n",
       "525011903                        2.559876   \n",
       "528642047                             NaN   \n",
       "537256313                        3.464528   \n",
       "519832676                        3.817988   \n",
       "596020931                        1.441754   \n",
       "\n",
       "           upstroke_downstroke_ratio_short_square  vm_for_sag      vrest  \n",
       "id                                                                        \n",
       "525011903                                3.099787  -88.843758 -70.561035  \n",
       "528642047                                1.989616 -101.000000 -69.209610  \n",
       "537256313                                3.054681  -87.531250 -72.628105  \n",
       "519832676                                4.980603  -84.218758 -72.547661  \n",
       "596020931                                1.556087  -82.531250 -74.260269  \n",
       "\n",
       "[5 rows x 68 columns]"
      ]
     },
     "execution_count": 14,
     "metadata": {},
     "output_type": "execute_result"
    }
   ],
   "source": [
    "cell_df = meta_df.join(ephys_features)\n",
    "cell_df.head()"
   ]
  },
  {
   "cell_type": "code",
   "execution_count": 15,
   "metadata": {},
   "outputs": [
    {
     "data": {
      "text/plain": [
       "(413, 68)"
      ]
     },
     "execution_count": 15,
     "metadata": {},
     "output_type": "execute_result"
    }
   ],
   "source": [
    "cell_df.shape"
   ]
  },
  {
   "cell_type": "markdown",
   "metadata": {},
   "source": [
    "Next, we filtered out for only epileptic patients, specifically those with tissue from areas within the temporal lobe. Furthermore, we also created subsections of the data based on the dendritic spine type: Aspiny/sparsely spiny and Spiny."
   ]
  },
  {
   "cell_type": "code",
   "execution_count": 16,
   "metadata": {},
   "outputs": [],
   "source": [
    "# Filter for epileptic patients.\n",
    "epilepsy_df = cell_df[cell_df['disease_state'] == 'epilepsy']\n",
    "\n",
    "# Filter for temporal lobe areas, including the 3 gyri.\n",
    "epilepsy_df = epilepsy_df[(epilepsy_df['structure_area_abbrev'] == 'TemL') |\n",
    "                         (epilepsy_df['structure_area_abbrev'] == 'MTG') |\n",
    "                         (epilepsy_df['structure_area_abbrev'] == 'ITG') |\n",
    "                         (epilepsy_df['structure_area_abbrev'] == 'STG')]\n",
    "\n",
    "# Creating subsets of data based on excitatory (spiny) vs. inhibitory (sparsely spiny/aspiny) cell types\n",
    "excitatory_df = epilepsy_df[epilepsy_df['dendrite_type'] == 'spiny']\n",
    "inhibitory_df = epilepsy_df[(epilepsy_df['dendrite_type'] == 'aspiny') | \n",
    "                           (epilepsy_df['dendrite_type'] == 'sparsely spiny')]"
   ]
  },
  {
   "cell_type": "markdown",
   "metadata": {},
   "source": [
    "### Dataset 2\n",
    "We imported Neuroelectro dataset and examined the shape and columns. "
   ]
  },
  {
   "cell_type": "code",
   "execution_count": 17,
   "metadata": {
    "scrolled": true
   },
   "outputs": [
    {
     "name": "stdout",
     "output_type": "stream",
     "text": [
      "Defaulting to user installation because normal site-packages is not writeable\n",
      "Requirement already satisfied: openpyxl in /home/itripuraneni/.local/lib/python3.9/site-packages (3.1.2)\n",
      "Requirement already satisfied: et-xmlfile in /home/itripuraneni/.local/lib/python3.9/site-packages (from openpyxl) (1.1.0)\n",
      "Note: you may need to restart the kernel to use updated packages.\n"
     ]
    }
   ],
   "source": [
    "pip install openpyxl"
   ]
  },
  {
   "cell_type": "code",
   "execution_count": 18,
   "metadata": {},
   "outputs": [
    {
     "data": {
      "text/html": [
       "<div>\n",
       "<style scoped>\n",
       "    .dataframe tbody tr th:only-of-type {\n",
       "        vertical-align: middle;\n",
       "    }\n",
       "\n",
       "    .dataframe tbody tr th {\n",
       "        vertical-align: top;\n",
       "    }\n",
       "\n",
       "    .dataframe thead th {\n",
       "        text-align: right;\n",
       "    }\n",
       "</style>\n",
       "<table border=\"1\" class=\"dataframe\">\n",
       "  <thead>\n",
       "    <tr style=\"text-align: right;\">\n",
       "      <th></th>\n",
       "      <th>CellCapacitance</th>\n",
       "      <th>InputResistance</th>\n",
       "      <th>RestingMembranePotential</th>\n",
       "      <th>MembraneTimeConstant</th>\n",
       "      <th>SpikeAmplitude</th>\n",
       "      <th>SpikeHalfWidth</th>\n",
       "      <th>SpikeThreshold</th>\n",
       "      <th>Rheobase</th>\n",
       "      <th>FiringFrequency</th>\n",
       "      <th>AhpDuration</th>\n",
       "      <th>...</th>\n",
       "      <th>Temp</th>\n",
       "      <th>Age</th>\n",
       "      <th>Weight</th>\n",
       "      <th>NeuronType</th>\n",
       "      <th>Title</th>\n",
       "      <th>PubYear</th>\n",
       "      <th>PubmedLink</th>\n",
       "      <th>DataTableLinks</th>\n",
       "      <th>ArticleLink</th>\n",
       "      <th>LastAuthor</th>\n",
       "    </tr>\n",
       "  </thead>\n",
       "  <tbody>\n",
       "    <tr>\n",
       "      <th>0</th>\n",
       "      <td>NaN</td>\n",
       "      <td>457.0</td>\n",
       "      <td>-57.9</td>\n",
       "      <td>NaN</td>\n",
       "      <td>64.0</td>\n",
       "      <td>1.5</td>\n",
       "      <td>NaN</td>\n",
       "      <td>NaN</td>\n",
       "      <td>NaN</td>\n",
       "      <td>NaN</td>\n",
       "      <td>...</td>\n",
       "      <td>34.0</td>\n",
       "      <td>6.5</td>\n",
       "      <td>NaN</td>\n",
       "      <td>Abducens nucleus motor neuron</td>\n",
       "      <td>A- T- and H-type currents shape intrinsic firi...</td>\n",
       "      <td>2003</td>\n",
       "      <td>http://www.ncbi.nlm.nih.gov/pubmed/12651919/</td>\n",
       "      <td>http://neuroelectro.org/data_table/11076/</td>\n",
       "      <td>http://neuroelectro.org/article/45731/</td>\n",
       "      <td>Debanne D</td>\n",
       "    </tr>\n",
       "    <tr>\n",
       "      <th>1</th>\n",
       "      <td>NaN</td>\n",
       "      <td>59.0</td>\n",
       "      <td>-61.0</td>\n",
       "      <td>17.0</td>\n",
       "      <td>92.1</td>\n",
       "      <td>NaN</td>\n",
       "      <td>-43.0</td>\n",
       "      <td>NaN</td>\n",
       "      <td>NaN</td>\n",
       "      <td>NaN</td>\n",
       "      <td>...</td>\n",
       "      <td>32.0</td>\n",
       "      <td>44.0</td>\n",
       "      <td>NaN</td>\n",
       "      <td>Amygdala basolateral nucleus pyramidal neuron</td>\n",
       "      <td>Distinct subtypes of cholecystokinin (CCK)-con...</td>\n",
       "      <td>2009</td>\n",
       "      <td>http://www.ncbi.nlm.nih.gov/pubmed/19164102/</td>\n",
       "      <td>http://neuroelectro.org/data_table/242/</td>\n",
       "      <td>http://neuroelectro.org/article/26026/</td>\n",
       "      <td>Rainnie DG</td>\n",
       "    </tr>\n",
       "    <tr>\n",
       "      <th>2</th>\n",
       "      <td>NaN</td>\n",
       "      <td>63.0</td>\n",
       "      <td>-70.0</td>\n",
       "      <td>31.0</td>\n",
       "      <td>NaN</td>\n",
       "      <td>NaN</td>\n",
       "      <td>-35.5</td>\n",
       "      <td>NaN</td>\n",
       "      <td>NaN</td>\n",
       "      <td>NaN</td>\n",
       "      <td>...</td>\n",
       "      <td>31.0</td>\n",
       "      <td>49.0</td>\n",
       "      <td>NaN</td>\n",
       "      <td>Amygdala basolateral nucleus pyramidal neuron</td>\n",
       "      <td>Noradrenergic excitation of a subpopulation of...</td>\n",
       "      <td>2008</td>\n",
       "      <td>http://www.ncbi.nlm.nih.gov/pubmed/18950687/</td>\n",
       "      <td>http://neuroelectro.org/data_table/26660/</td>\n",
       "      <td>http://neuroelectro.org/article/30833/</td>\n",
       "      <td>Yanagawa Y</td>\n",
       "    </tr>\n",
       "    <tr>\n",
       "      <th>3</th>\n",
       "      <td>NaN</td>\n",
       "      <td>40.7</td>\n",
       "      <td>-73.7</td>\n",
       "      <td>NaN</td>\n",
       "      <td>61.0</td>\n",
       "      <td>NaN</td>\n",
       "      <td>-54.0</td>\n",
       "      <td>NaN</td>\n",
       "      <td>0.23</td>\n",
       "      <td>NaN</td>\n",
       "      <td>...</td>\n",
       "      <td>37.0</td>\n",
       "      <td>80.5</td>\n",
       "      <td>330.0</td>\n",
       "      <td>Amygdala basolateral nucleus pyramidal neuron</td>\n",
       "      <td>Cellular mechanisms of infralimbic and prelimb...</td>\n",
       "      <td>2002</td>\n",
       "      <td>http://www.ncbi.nlm.nih.gov/pubmed/11756516/</td>\n",
       "      <td>http://neuroelectro.org/data_table/2952/</td>\n",
       "      <td>http://neuroelectro.org/article/37269/</td>\n",
       "      <td>Grace AA</td>\n",
       "    </tr>\n",
       "    <tr>\n",
       "      <th>4</th>\n",
       "      <td>NaN</td>\n",
       "      <td>46.0</td>\n",
       "      <td>-63.0</td>\n",
       "      <td>21.0</td>\n",
       "      <td>NaN</td>\n",
       "      <td>NaN</td>\n",
       "      <td>NaN</td>\n",
       "      <td>NaN</td>\n",
       "      <td>NaN</td>\n",
       "      <td>NaN</td>\n",
       "      <td>...</td>\n",
       "      <td>32.0</td>\n",
       "      <td>38.0</td>\n",
       "      <td>135.0</td>\n",
       "      <td>Amygdala basolateral nucleus pyramidal neuron</td>\n",
       "      <td>Cholinergic responses of morphologically and e...</td>\n",
       "      <td>1997</td>\n",
       "      <td>http://www.ncbi.nlm.nih.gov/pubmed/9153654/</td>\n",
       "      <td>http://neuroelectro.org/data_table/24186/</td>\n",
       "      <td>http://neuroelectro.org/article/82009/</td>\n",
       "      <td>Criado JM</td>\n",
       "    </tr>\n",
       "  </tbody>\n",
       "</table>\n",
       "<p>5 rows × 43 columns</p>\n",
       "</div>"
      ],
      "text/plain": [
       "   CellCapacitance  InputResistance  RestingMembranePotential  \\\n",
       "0              NaN            457.0                     -57.9   \n",
       "1              NaN             59.0                     -61.0   \n",
       "2              NaN             63.0                     -70.0   \n",
       "3              NaN             40.7                     -73.7   \n",
       "4              NaN             46.0                     -63.0   \n",
       "\n",
       "   MembraneTimeConstant  SpikeAmplitude  SpikeHalfWidth  SpikeThreshold  \\\n",
       "0                   NaN            64.0             1.5             NaN   \n",
       "1                  17.0            92.1             NaN           -43.0   \n",
       "2                  31.0             NaN             NaN           -35.5   \n",
       "3                   NaN            61.0             NaN           -54.0   \n",
       "4                  21.0             NaN             NaN             NaN   \n",
       "\n",
       "   Rheobase  FiringFrequency  AhpDuration  ...  Temp   Age  Weight  \\\n",
       "0       NaN              NaN          NaN  ...  34.0   6.5     NaN   \n",
       "1       NaN              NaN          NaN  ...  32.0  44.0     NaN   \n",
       "2       NaN              NaN          NaN  ...  31.0  49.0     NaN   \n",
       "3       NaN             0.23          NaN  ...  37.0  80.5   330.0   \n",
       "4       NaN              NaN          NaN  ...  32.0  38.0   135.0   \n",
       "\n",
       "                                      NeuronType  \\\n",
       "0                  Abducens nucleus motor neuron   \n",
       "1  Amygdala basolateral nucleus pyramidal neuron   \n",
       "2  Amygdala basolateral nucleus pyramidal neuron   \n",
       "3  Amygdala basolateral nucleus pyramidal neuron   \n",
       "4  Amygdala basolateral nucleus pyramidal neuron   \n",
       "\n",
       "                                               Title  PubYear  \\\n",
       "0  A- T- and H-type currents shape intrinsic firi...     2003   \n",
       "1  Distinct subtypes of cholecystokinin (CCK)-con...     2009   \n",
       "2  Noradrenergic excitation of a subpopulation of...     2008   \n",
       "3  Cellular mechanisms of infralimbic and prelimb...     2002   \n",
       "4  Cholinergic responses of morphologically and e...     1997   \n",
       "\n",
       "                                     PubmedLink  \\\n",
       "0  http://www.ncbi.nlm.nih.gov/pubmed/12651919/   \n",
       "1  http://www.ncbi.nlm.nih.gov/pubmed/19164102/   \n",
       "2  http://www.ncbi.nlm.nih.gov/pubmed/18950687/   \n",
       "3  http://www.ncbi.nlm.nih.gov/pubmed/11756516/   \n",
       "4   http://www.ncbi.nlm.nih.gov/pubmed/9153654/   \n",
       "\n",
       "                              DataTableLinks  \\\n",
       "0  http://neuroelectro.org/data_table/11076/   \n",
       "1    http://neuroelectro.org/data_table/242/   \n",
       "2  http://neuroelectro.org/data_table/26660/   \n",
       "3   http://neuroelectro.org/data_table/2952/   \n",
       "4  http://neuroelectro.org/data_table/24186/   \n",
       "\n",
       "                              ArticleLink  LastAuthor  \n",
       "0  http://neuroelectro.org/article/45731/   Debanne D  \n",
       "1  http://neuroelectro.org/article/26026/  Rainnie DG  \n",
       "2  http://neuroelectro.org/article/30833/  Yanagawa Y  \n",
       "3  http://neuroelectro.org/article/37269/    Grace AA  \n",
       "4  http://neuroelectro.org/article/82009/   Criado JM  \n",
       "\n",
       "[5 rows x 43 columns]"
      ]
     },
     "execution_count": 18,
     "metadata": {},
     "output_type": "execute_result"
    }
   ],
   "source": [
    "neuroe_df = pd.read_excel('neurophysiology_data.xlsx')\n",
    "neuroe_df.head()"
   ]
  },
  {
   "cell_type": "code",
   "execution_count": 19,
   "metadata": {},
   "outputs": [
    {
     "data": {
      "text/plain": [
       "(384, 43)"
      ]
     },
     "execution_count": 19,
     "metadata": {},
     "output_type": "execute_result"
    }
   ],
   "source": [
    "neuroe_df.shape"
   ]
  },
  {
   "cell_type": "code",
   "execution_count": 20,
   "metadata": {
    "scrolled": true
   },
   "outputs": [
    {
     "data": {
      "text/plain": [
       "Index(['CellCapacitance', 'InputResistance', 'RestingMembranePotential',\n",
       "       'MembraneTimeConstant', 'SpikeAmplitude', 'SpikeHalfWidth',\n",
       "       'SpikeThreshold', 'Rheobase', 'FiringFrequency', 'AhpDuration',\n",
       "       'CellDiameter', 'AccessResistance', 'SagRatio', 'SpikeOvershoot',\n",
       "       'CellSurfaceArea', 'AhpAmplitude', 'FiSlope', 'SpontaneousFiringRate',\n",
       "       'FastAhpAmplitude', 'FastAhpDuration', 'SlowAhpAmplitude',\n",
       "       'SlowAhpDuration', 'SpikeWidth', 'AdpAmplitude', 'AdpDuration',\n",
       "       'SpikePeak', 'AdaptationRatio', 'Species', 'Strain', 'ElectrodeType',\n",
       "       'PrepType', 'JxnPotential', 'JxnOffset', 'Temp', 'Age', 'Weight',\n",
       "       'NeuronType', 'Title', 'PubYear', 'PubmedLink', 'DataTableLinks',\n",
       "       'ArticleLink', 'LastAuthor'],\n",
       "      dtype='object')"
      ]
     },
     "execution_count": 20,
     "metadata": {},
     "output_type": "execute_result"
    }
   ],
   "source": [
    "neuroe_df.columns"
   ]
  },
  {
   "cell_type": "markdown",
   "metadata": {},
   "source": [
    "We can categorize the NeuroElectro database as excitatory and inhibitory cells in the hippocampus, a brain strucutre within the temporal lobe by filtering for pyramidal cells for excitatory neurons and basket cells for inhibitory neurons."
   ]
  },
  {
   "cell_type": "code",
   "execution_count": 21,
   "metadata": {},
   "outputs": [],
   "source": [
    "neuroeexcitatory_df = neuroe_df[(neuroe_df['NeuronType'] == 'Hippocampus CA1 pyramidal cell') | \n",
    "                           (neuroe_df['NeuronType'] == 'Hippocampus CA3 pyramidal cell')]\n",
    "neuroeinhibitory_df = neuroe_df[(neuroe_df['NeuronType'] == 'Hippocampus CA1 basket cell') | \n",
    "                           (neuroe_df['NeuronType'] == 'Hippocampus CA3 basket cell')]"
   ]
  },
  {
   "cell_type": "markdown",
   "metadata": {},
   "source": [
    "### Visualizing Features in Datasets\n",
    "\n",
    "Now that both databases are loaded in, we can analyze important electrophysiological features in both datasets, which include: input resistance, resting membrane potential, time constant (tau), spike threshold, and adaptation index. To make the visualization process cleaner (and subsequent analysis), we will keep only the columns of interest."
   ]
  },
  {
   "cell_type": "code",
   "execution_count": 23,
   "metadata": {},
   "outputs": [],
   "source": [
    "# Keeping columns of interest in the Cell Types Dataset.\n",
    "cell_columns = ['input_resistance_mohm', 'vrest', 'tau', 'threshold_v_short_square', 'adaptation']\n",
    "excitatory_df = excitatory_df[cell_columns]\n",
    "inhibitory_df = inhibitory_df[cell_columns]\n",
    "\n",
    "# Keeping columns of interest in the NeuroElectro Dataset.\n",
    "neuroe_columns = ['InputResistance', 'RestingMembranePotential', 'MembraneTimeConstant', 'SpikeThreshold', 'AdaptationRatio']\n",
    "neuroeexcitatory_df = neuroeexcitatory_df[neuroe_columns]\n",
    "neuroeinhibitory_df = neuroeinhibitory_df[neuroe_columns]"
   ]
  },
  {
   "cell_type": "markdown",
   "metadata": {},
   "source": [
    "We utilized a box plot to visualize the distribution of the data, as well as identify any outliers."
   ]
  },
  {
   "cell_type": "code",
   "execution_count": 34,
   "metadata": {
    "scrolled": true
   },
   "outputs": [
    {
     "data": {
      "image/png": "[encoded data removed]",
      "text/plain": [
       "<Figure size 2160x2160 with 10 Axes>"
      ]
     },
     "metadata": {
      "needs_background": "light"
     },
     "output_type": "display_data"
    }
   ],
   "source": [
    "# Create a figure and subplots.\n",
    "fig, axs = plt.subplots(5, 2, figsize=(30,30))\n",
    "\n",
    "x_titles = ['Epilepsy', 'Healthy']\n",
    "y_titles = ['Input Resistance (MOhms)', 'Resting Membrane Potential (mV)', 'Time constant (s)', 'Threshold (mV)', 'Adaptation Index']\n",
    "axis = 0\n",
    "\n",
    "for i in np.arange(len(cell_columns)):\n",
    "    # Plotting excitatory neuron comparison among epileptic and healthy brains.\n",
    "    epileptic_ebrains = excitatory_df[cell_columns[i]].dropna()\n",
    "    healthy_ebrains = neuroeexcitatory_df[neuroe_columns[i]].dropna()\n",
    "    data = [epileptic_ebrains, healthy_ebrains]\n",
    "    axs[axis, 0].boxplot(data)\n",
    "    axs[axis, 0].set_xticklabels(x_titles)\n",
    "    axs[axis, 0].set_ylabel(y_titles[i])\n",
    "    \n",
    "    # Plotting inhibitory neuron comparison among epileptic and healthy brains.\n",
    "    epileptic_ibrains = inhibitory_df[cell_columns[i]].dropna()\n",
    "    healthy_ibrains = neuroeinhibitory_df[neuroe_columns[i]].dropna()\n",
    "    data = [epileptic_ibrains, healthy_ibrains]\n",
    "    axs[axis, 1].boxplot(data)\n",
    "    axs[axis, 1].set_xticklabels(x_titles)\n",
    "    axs[axis, 1].set_ylabel(y_titles[i])\n",
    "    \n",
    "    axis += 1\n",
    "\n",
    "plt.suptitle(\"Figure 4. Electrophysiological Features of Excitatory and Inhibitory Cell Types in the Temporal Lobe of Epileptic vs. Healthy Brains\", fontsize=20)\n",
    "fig.show()"
   ]
  },
  {
   "cell_type": "markdown",
   "metadata": {},
   "source": [
    "## Data Analysis & Results"
   ]
  },
  {
   "cell_type": "markdown",
   "metadata": {},
   "source": [
    "Include cells that describe the steps in your data analysis."
   ]
  },
  {
   "cell_type": "code",
   "execution_count": null,
   "metadata": {},
   "outputs": [],
   "source": [
    "## YOUR CODE HERE\n",
    "## FEEL FREE TO ADD MULTIPLE CELLS PER SECTION"
   ]
  },
  {
   "cell_type": "markdown",
   "metadata": {},
   "source": [
    "## Conclusion & Discussion"
   ]
  },
  {
   "cell_type": "markdown",
   "metadata": {},
   "source": [
    "*Fill in your discussion information here*"
   ]
  }
 ],
 "metadata": {
  "kernelspec": {
   "display_name": "Python 3 (ipykernel)",
   "language": "python",
   "name": "python3"
  },
  "language_info": {
   "codemirror_mode": {
    "name": "ipython",
    "version": 3
   },
   "file_extension": ".py",
   "mimetype": "text/x-python",
   "name": "python",
   "nbconvert_exporter": "python",
   "pygments_lexer": "ipython3",
   "version": "3.9.5"
  }
 },
 "nbformat": 4,
 "nbformat_minor": 2
}
