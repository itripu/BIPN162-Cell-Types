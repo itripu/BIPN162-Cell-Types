{
 "cells": [
  {
   "cell_type": "markdown",
   "metadata": {},
   "source": [
    "# Cell Types Project\n",
    "*Replace this with the name of your project*"
   ]
  },
  {
   "cell_type": "markdown",
   "metadata": {},
   "source": [
    "## Team Member Names & Contributions\n",
    "*Feel free to name your team, but please also include your real names and IDs here. Please specify who in your group worked on which parts of the project.*\n",
    "\n",
    "- **Isha Tripuraneni**: Background information on excitatory and inhibitory cell types.\n",
    "- **Gabriella Bulli**: Background information about years of seizure (subject to change).\n",
    "- **Deborah Chen**: Background information on Allen Institute cell types data and general information about epilepsy."
   ]
  },
  {
   "cell_type": "markdown",
   "metadata": {},
   "source": [
    "## Abstract"
   ]
  },
  {
   "cell_type": "markdown",
   "metadata": {},
   "source": [
    "*Fill in your 3-4 sentence abstract here*"
   ]
  },
  {
   "cell_type": "markdown",
   "metadata": {},
   "source": [
    "## Research Question"
   ]
  },
  {
   "cell_type": "markdown",
   "metadata": {},
   "source": [
    "*Fill in your research question here*"
   ]
  },
  {
   "cell_type": "markdown",
   "metadata": {},
   "source": [
    "# Background and Prior Work"
   ]
  },
  {
   "cell_type": "markdown",
   "metadata": {},
   "source": [
    "*Fill in your background and prior work here (~500 words). You are welcome to use additional subheadings. You should also include a paragraph describing each dataset and how you'll be using them.* \n",
    "\n",
    "\n",
    "### Epilepsy in the temporal lobe\n",
    "\n",
    "Epilepsy is a chronic disorder characterized by prolonged and recurrent seizures. Early autopsies of patients with epilepsy have found that their brains have undergone significant structural changes (Scharfman 2007). The most common form of epilepsy occurs in the temporal lobe and has a prevalence rate of around 0.1%, therefore extensive research has gone into studying the causes of and treatments for Temporal Lobe Epilepsy (TLE) (Keränen and Riekkinen et al. 1988; Krook-Magnuson et al. 2014). \n",
    "\n",
    "\n",
    "### References (include links):\n",
    "(1) Keränen, T. and Riekkinen, P. (1988), Severe epilepsy: Diagnostic and epidemiological \n",
    "aspects. Acta Neurologica Scandinavica, 78: 7-14. https://doi.org/10.1111/j.1600-0404.1988.tb07997.x\n",
    "\n",
    "(2) Krook-Magnuson, E., Szabo, G. G., Armstrong, C., Oijala, M., & Soltesz, I. (2014). Cerebellar Directed Optogenetic Intervention Inhibits Spontaneous Hippocampal Seizures in a Mouse Model of Temporal Lobe Epilepsy. eNeuro, 1(1), ENEURO.0005-14.2014. https://doi.org/10.1523/ENEURO.0005-14.2014\n",
    "\n",
    "(3) Scharfman, H. E. (2007). The Neurobiology of Epilepsy. Current Neurology and Neuroscience Reports, 7(4), 348–354.\n",
    "\n",
    "\n",
    "### Datasets \n",
    "**#1 The Allen Brain Atlas.** \n",
    "Specifically, the Allen Cell Types datasets contains neuronal and electrophysiological properties collected from various human and mice subjects. For the human participants, the disease state (with or without epilepsy) and years of seizure are recorded, which can be used to investigate differences in neuron excitability and other electrophysiological features across the years of seizure. \n",
    "\n",
    "2 \n"
   ]
  },
  {
   "cell_type": "markdown",
   "metadata": {},
   "source": [
    "## Hypothesis\n"
   ]
  },
  {
   "cell_type": "markdown",
   "metadata": {},
   "source": [
    "*Fill in your hypotheses here*"
   ]
  },
  {
   "cell_type": "markdown",
   "metadata": {},
   "source": [
    "## Setup\n",
    "*Are there packages that need to be imported, or datasets that need to be downloaded?*  \n",
    "\n",
    "We imported numpy, pandas, and matplotlib.pyplot for visualizing and wrangling the data. We also imported the Allen SDK to load in the data set."
   ]
  },
  {
   "cell_type": "code",
   "execution_count": 1,
   "metadata": {},
   "outputs": [],
   "source": [
    "# Modules\n",
    "import numpy as np\n",
    "import pandas as pd\n",
    "import matplotlib.pyplot as plt\n",
    "from scipy import stats\n",
    "\n",
    "# Load in the Allen Cell Types SDK Api and Cache\n",
    "from allensdk.core.cell_types_cache import CellTypesCache\n",
    "from allensdk.api.queries.cell_types_api import CellTypesApi\n",
    "\n",
    "# Create a cache: from the in-class notebooks\n",
    "ctc = CellTypesCache(manifest_file='cell_types/manifest.json')"
   ]
  },
  {
   "cell_type": "markdown",
   "metadata": {},
   "source": [
    "## Data Wrangling"
   ]
  },
  {
   "cell_type": "markdown",
   "metadata": {},
   "source": [
    "We first loaded in the Allen Institute Cell Types metadata and electrophysiological data using the Allen SDK and joined them."
   ]
  },
  {
   "cell_type": "code",
   "execution_count": 4,
   "metadata": {},
   "outputs": [],
   "source": [
    "# Load in the data sets and merge them together\n",
    "meta_df = pd.DataFrame(ctc.get_cells(species=[CellTypesApi.HUMAN])).set_index('id')\n",
    "ephys_features = pd.DataFrame(ctc.get_ephys_features()).set_index('specimen_id')\n",
    "cell_df = meta_df.join(ephys_features)"
   ]
  },
  {
   "cell_type": "markdown",
   "metadata": {},
   "source": [
    "Next, we filtered out for only epileptic patients, specifically those with tissue from areas within the temporal lobe. Furthermore, we also created subsections of the data based on the dendritic spine type: Aspiny/sparsely spiny and Spiny."
   ]
  },
  {
   "cell_type": "code",
   "execution_count": null,
   "metadata": {},
   "outputs": [],
   "source": [
    "# Filter for epileptic patients.\n",
    "epilepsy_df = cell_df[cell_df['disease_state'] == 'epilepsy']\n",
    "\n",
    "# Filter for temporal lobe areas, including the 3 gyri.\n",
    "epilepsy_df = epilepsy_df[(epilepsy_df['structure_area_abbrev'] == 'TemL') |\n",
    "                         (epilepsy_df['structure_area_abbrev'] == 'MTG') |\n",
    "                         (epilepsy_df['structure_area_abbrev'] == 'ITG') |\n",
    "                         (epilepsy_df['structure_area_abbrev'] == 'STG')]\n",
    "\n",
    "# Creating subsets of data based on excitatory (spiny) vs. inhibitory (sparsely spiny/aspiny) cell types\n",
    "excitatory_df = epilepsy_df[epilepsy_df['dendrite_type'] == 'spiny']\n",
    "inhibitory_df = epilepsy_df[(epilepsy_df['dendrite_type'] == 'aspiny') | \n",
    "                           (epilepsy_df['dendrite_type'] == 'sparsely spiny')]"
   ]
  },
  {
   "cell_type": "markdown",
   "metadata": {},
   "source": [
    "## Data Analysis & Results"
   ]
  },
  {
   "cell_type": "markdown",
   "metadata": {},
   "source": [
    "Include cells that describe the steps in your data analysis."
   ]
  },
  {
   "cell_type": "code",
   "execution_count": 5,
   "metadata": {},
   "outputs": [],
   "source": [
    "## YOUR CODE HERE\n",
    "## FEEL FREE TO ADD MULTIPLE CELLS PER SECTION"
   ]
  },
  {
   "cell_type": "markdown",
   "metadata": {},
   "source": [
    "## Conclusion & Discussion"
   ]
  },
  {
   "cell_type": "markdown",
   "metadata": {},
   "source": [
    "*Fill in your discussion information here*"
   ]
  }
 ],
 "metadata": {
  "kernelspec": {
   "display_name": "Python 3 (ipykernel)",
   "language": "python",
   "name": "python3"
  },
  "language_info": {
   "codemirror_mode": {
    "name": "ipython",
    "version": 3
   },
   "file_extension": ".py",
   "mimetype": "text/x-python",
   "name": "python",
   "nbconvert_exporter": "python",
   "pygments_lexer": "ipython3",
   "version": "3.9.5"
  }
 },
 "nbformat": 4,
 "nbformat_minor": 2
}
